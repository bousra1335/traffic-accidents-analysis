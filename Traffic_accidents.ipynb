{
 "cells": [
  {
   "cell_type": "code",
   "execution_count": 1,
   "metadata": {},
   "outputs": [],
   "source": [
    "import numpy as np\n",
    "import pandas as pd\n"
   ]
  },
  {
   "cell_type": "code",
   "execution_count": 2,
   "metadata": {},
   "outputs": [],
   "source": [
    "df = pd.read_csv('/Users/lia/Documents/Data analysis /Project /Traffic accidents analysis/traffic_accidents.csv')"
   ]
  },
  {
   "cell_type": "code",
   "execution_count": 3,
   "metadata": {},
   "outputs": [
    {
     "data": {
      "text/html": [
       "<div>\n",
       "<style scoped>\n",
       "    .dataframe tbody tr th:only-of-type {\n",
       "        vertical-align: middle;\n",
       "    }\n",
       "\n",
       "    .dataframe tbody tr th {\n",
       "        vertical-align: top;\n",
       "    }\n",
       "\n",
       "    .dataframe thead th {\n",
       "        text-align: right;\n",
       "    }\n",
       "</style>\n",
       "<table border=\"1\" class=\"dataframe\">\n",
       "  <thead>\n",
       "    <tr style=\"text-align: right;\">\n",
       "      <th></th>\n",
       "      <th>crash_date</th>\n",
       "      <th>traffic_control_device</th>\n",
       "      <th>weather_condition</th>\n",
       "      <th>lighting_condition</th>\n",
       "      <th>first_crash_type</th>\n",
       "      <th>trafficway_type</th>\n",
       "      <th>alignment</th>\n",
       "      <th>roadway_surface_cond</th>\n",
       "      <th>road_defect</th>\n",
       "      <th>crash_type</th>\n",
       "      <th>...</th>\n",
       "      <th>most_severe_injury</th>\n",
       "      <th>injuries_total</th>\n",
       "      <th>injuries_fatal</th>\n",
       "      <th>injuries_incapacitating</th>\n",
       "      <th>injuries_non_incapacitating</th>\n",
       "      <th>injuries_reported_not_evident</th>\n",
       "      <th>injuries_no_indication</th>\n",
       "      <th>crash_hour</th>\n",
       "      <th>crash_day_of_week</th>\n",
       "      <th>crash_month</th>\n",
       "    </tr>\n",
       "  </thead>\n",
       "  <tbody>\n",
       "    <tr>\n",
       "      <th>0</th>\n",
       "      <td>07/29/2023 01:00:00 PM</td>\n",
       "      <td>TRAFFIC SIGNAL</td>\n",
       "      <td>CLEAR</td>\n",
       "      <td>DAYLIGHT</td>\n",
       "      <td>TURNING</td>\n",
       "      <td>NOT DIVIDED</td>\n",
       "      <td>STRAIGHT AND LEVEL</td>\n",
       "      <td>UNKNOWN</td>\n",
       "      <td>UNKNOWN</td>\n",
       "      <td>NO INJURY / DRIVE AWAY</td>\n",
       "      <td>...</td>\n",
       "      <td>NO INDICATION OF INJURY</td>\n",
       "      <td>0.0</td>\n",
       "      <td>0.0</td>\n",
       "      <td>0.0</td>\n",
       "      <td>0.0</td>\n",
       "      <td>0.0</td>\n",
       "      <td>3.0</td>\n",
       "      <td>13</td>\n",
       "      <td>7</td>\n",
       "      <td>7</td>\n",
       "    </tr>\n",
       "    <tr>\n",
       "      <th>1</th>\n",
       "      <td>08/13/2023 12:11:00 AM</td>\n",
       "      <td>TRAFFIC SIGNAL</td>\n",
       "      <td>CLEAR</td>\n",
       "      <td>DARKNESS, LIGHTED ROAD</td>\n",
       "      <td>TURNING</td>\n",
       "      <td>FOUR WAY</td>\n",
       "      <td>STRAIGHT AND LEVEL</td>\n",
       "      <td>DRY</td>\n",
       "      <td>NO DEFECTS</td>\n",
       "      <td>NO INJURY / DRIVE AWAY</td>\n",
       "      <td>...</td>\n",
       "      <td>NO INDICATION OF INJURY</td>\n",
       "      <td>0.0</td>\n",
       "      <td>0.0</td>\n",
       "      <td>0.0</td>\n",
       "      <td>0.0</td>\n",
       "      <td>0.0</td>\n",
       "      <td>2.0</td>\n",
       "      <td>0</td>\n",
       "      <td>1</td>\n",
       "      <td>8</td>\n",
       "    </tr>\n",
       "    <tr>\n",
       "      <th>2</th>\n",
       "      <td>12/09/2021 10:30:00 AM</td>\n",
       "      <td>TRAFFIC SIGNAL</td>\n",
       "      <td>CLEAR</td>\n",
       "      <td>DAYLIGHT</td>\n",
       "      <td>REAR END</td>\n",
       "      <td>T-INTERSECTION</td>\n",
       "      <td>STRAIGHT AND LEVEL</td>\n",
       "      <td>DRY</td>\n",
       "      <td>NO DEFECTS</td>\n",
       "      <td>NO INJURY / DRIVE AWAY</td>\n",
       "      <td>...</td>\n",
       "      <td>NO INDICATION OF INJURY</td>\n",
       "      <td>0.0</td>\n",
       "      <td>0.0</td>\n",
       "      <td>0.0</td>\n",
       "      <td>0.0</td>\n",
       "      <td>0.0</td>\n",
       "      <td>3.0</td>\n",
       "      <td>10</td>\n",
       "      <td>5</td>\n",
       "      <td>12</td>\n",
       "    </tr>\n",
       "    <tr>\n",
       "      <th>3</th>\n",
       "      <td>08/09/2023 07:55:00 PM</td>\n",
       "      <td>TRAFFIC SIGNAL</td>\n",
       "      <td>CLEAR</td>\n",
       "      <td>DAYLIGHT</td>\n",
       "      <td>ANGLE</td>\n",
       "      <td>FOUR WAY</td>\n",
       "      <td>STRAIGHT AND LEVEL</td>\n",
       "      <td>DRY</td>\n",
       "      <td>NO DEFECTS</td>\n",
       "      <td>INJURY AND / OR TOW DUE TO CRASH</td>\n",
       "      <td>...</td>\n",
       "      <td>NONINCAPACITATING INJURY</td>\n",
       "      <td>5.0</td>\n",
       "      <td>0.0</td>\n",
       "      <td>0.0</td>\n",
       "      <td>5.0</td>\n",
       "      <td>0.0</td>\n",
       "      <td>0.0</td>\n",
       "      <td>19</td>\n",
       "      <td>4</td>\n",
       "      <td>8</td>\n",
       "    </tr>\n",
       "    <tr>\n",
       "      <th>4</th>\n",
       "      <td>08/19/2023 02:55:00 PM</td>\n",
       "      <td>TRAFFIC SIGNAL</td>\n",
       "      <td>CLEAR</td>\n",
       "      <td>DAYLIGHT</td>\n",
       "      <td>REAR END</td>\n",
       "      <td>T-INTERSECTION</td>\n",
       "      <td>STRAIGHT AND LEVEL</td>\n",
       "      <td>UNKNOWN</td>\n",
       "      <td>UNKNOWN</td>\n",
       "      <td>NO INJURY / DRIVE AWAY</td>\n",
       "      <td>...</td>\n",
       "      <td>NO INDICATION OF INJURY</td>\n",
       "      <td>0.0</td>\n",
       "      <td>0.0</td>\n",
       "      <td>0.0</td>\n",
       "      <td>0.0</td>\n",
       "      <td>0.0</td>\n",
       "      <td>3.0</td>\n",
       "      <td>14</td>\n",
       "      <td>7</td>\n",
       "      <td>8</td>\n",
       "    </tr>\n",
       "  </tbody>\n",
       "</table>\n",
       "<p>5 rows × 24 columns</p>\n",
       "</div>"
      ],
      "text/plain": [
       "               crash_date traffic_control_device weather_condition  \\\n",
       "0  07/29/2023 01:00:00 PM         TRAFFIC SIGNAL             CLEAR   \n",
       "1  08/13/2023 12:11:00 AM         TRAFFIC SIGNAL             CLEAR   \n",
       "2  12/09/2021 10:30:00 AM         TRAFFIC SIGNAL             CLEAR   \n",
       "3  08/09/2023 07:55:00 PM         TRAFFIC SIGNAL             CLEAR   \n",
       "4  08/19/2023 02:55:00 PM         TRAFFIC SIGNAL             CLEAR   \n",
       "\n",
       "       lighting_condition first_crash_type trafficway_type  \\\n",
       "0                DAYLIGHT          TURNING     NOT DIVIDED   \n",
       "1  DARKNESS, LIGHTED ROAD          TURNING        FOUR WAY   \n",
       "2                DAYLIGHT         REAR END  T-INTERSECTION   \n",
       "3                DAYLIGHT            ANGLE        FOUR WAY   \n",
       "4                DAYLIGHT         REAR END  T-INTERSECTION   \n",
       "\n",
       "            alignment roadway_surface_cond road_defect  \\\n",
       "0  STRAIGHT AND LEVEL              UNKNOWN     UNKNOWN   \n",
       "1  STRAIGHT AND LEVEL                  DRY  NO DEFECTS   \n",
       "2  STRAIGHT AND LEVEL                  DRY  NO DEFECTS   \n",
       "3  STRAIGHT AND LEVEL                  DRY  NO DEFECTS   \n",
       "4  STRAIGHT AND LEVEL              UNKNOWN     UNKNOWN   \n",
       "\n",
       "                         crash_type  ...        most_severe_injury  \\\n",
       "0            NO INJURY / DRIVE AWAY  ...   NO INDICATION OF INJURY   \n",
       "1            NO INJURY / DRIVE AWAY  ...   NO INDICATION OF INJURY   \n",
       "2            NO INJURY / DRIVE AWAY  ...   NO INDICATION OF INJURY   \n",
       "3  INJURY AND / OR TOW DUE TO CRASH  ...  NONINCAPACITATING INJURY   \n",
       "4            NO INJURY / DRIVE AWAY  ...   NO INDICATION OF INJURY   \n",
       "\n",
       "  injuries_total injuries_fatal  injuries_incapacitating  \\\n",
       "0            0.0            0.0                      0.0   \n",
       "1            0.0            0.0                      0.0   \n",
       "2            0.0            0.0                      0.0   \n",
       "3            5.0            0.0                      0.0   \n",
       "4            0.0            0.0                      0.0   \n",
       "\n",
       "  injuries_non_incapacitating  injuries_reported_not_evident  \\\n",
       "0                         0.0                            0.0   \n",
       "1                         0.0                            0.0   \n",
       "2                         0.0                            0.0   \n",
       "3                         5.0                            0.0   \n",
       "4                         0.0                            0.0   \n",
       "\n",
       "   injuries_no_indication  crash_hour  crash_day_of_week  crash_month  \n",
       "0                     3.0          13                  7            7  \n",
       "1                     2.0           0                  1            8  \n",
       "2                     3.0          10                  5           12  \n",
       "3                     0.0          19                  4            8  \n",
       "4                     3.0          14                  7            8  \n",
       "\n",
       "[5 rows x 24 columns]"
      ]
     },
     "execution_count": 3,
     "metadata": {},
     "output_type": "execute_result"
    }
   ],
   "source": [
    "df.head()"
   ]
  },
  {
   "cell_type": "code",
   "execution_count": 4,
   "metadata": {},
   "outputs": [
    {
     "name": "stdout",
     "output_type": "stream",
     "text": [
      "<class 'pandas.core.frame.DataFrame'>\n",
      "RangeIndex: 209306 entries, 0 to 209305\n",
      "Data columns (total 24 columns):\n",
      " #   Column                         Non-Null Count   Dtype  \n",
      "---  ------                         --------------   -----  \n",
      " 0   crash_date                     209306 non-null  object \n",
      " 1   traffic_control_device         209306 non-null  object \n",
      " 2   weather_condition              209306 non-null  object \n",
      " 3   lighting_condition             209306 non-null  object \n",
      " 4   first_crash_type               209306 non-null  object \n",
      " 5   trafficway_type                209306 non-null  object \n",
      " 6   alignment                      209306 non-null  object \n",
      " 7   roadway_surface_cond           209306 non-null  object \n",
      " 8   road_defect                    209306 non-null  object \n",
      " 9   crash_type                     209306 non-null  object \n",
      " 10  intersection_related_i         209306 non-null  object \n",
      " 11  damage                         209306 non-null  object \n",
      " 12  prim_contributory_cause        209306 non-null  object \n",
      " 13  num_units                      209306 non-null  int64  \n",
      " 14  most_severe_injury             209306 non-null  object \n",
      " 15  injuries_total                 209306 non-null  float64\n",
      " 16  injuries_fatal                 209306 non-null  float64\n",
      " 17  injuries_incapacitating        209306 non-null  float64\n",
      " 18  injuries_non_incapacitating    209306 non-null  float64\n",
      " 19  injuries_reported_not_evident  209306 non-null  float64\n",
      " 20  injuries_no_indication         209306 non-null  float64\n",
      " 21  crash_hour                     209306 non-null  int64  \n",
      " 22  crash_day_of_week              209306 non-null  int64  \n",
      " 23  crash_month                    209306 non-null  int64  \n",
      "dtypes: float64(6), int64(4), object(14)\n",
      "memory usage: 38.3+ MB\n"
     ]
    }
   ],
   "source": [
    "df.info()"
   ]
  },
  {
   "cell_type": "code",
   "execution_count": 5,
   "metadata": {},
   "outputs": [
    {
     "data": {
      "text/plain": [
       "crash_date                       0\n",
       "traffic_control_device           0\n",
       "weather_condition                0\n",
       "lighting_condition               0\n",
       "first_crash_type                 0\n",
       "trafficway_type                  0\n",
       "alignment                        0\n",
       "roadway_surface_cond             0\n",
       "road_defect                      0\n",
       "crash_type                       0\n",
       "intersection_related_i           0\n",
       "damage                           0\n",
       "prim_contributory_cause          0\n",
       "num_units                        0\n",
       "most_severe_injury               0\n",
       "injuries_total                   0\n",
       "injuries_fatal                   0\n",
       "injuries_incapacitating          0\n",
       "injuries_non_incapacitating      0\n",
       "injuries_reported_not_evident    0\n",
       "injuries_no_indication           0\n",
       "crash_hour                       0\n",
       "crash_day_of_week                0\n",
       "crash_month                      0\n",
       "dtype: int64"
      ]
     },
     "execution_count": 5,
     "metadata": {},
     "output_type": "execute_result"
    }
   ],
   "source": [
    "df.isnull().sum()\n"
   ]
  },
  {
   "cell_type": "code",
   "execution_count": 7,
   "metadata": {},
   "outputs": [
    {
     "data": {
      "text/html": [
       "<div>\n",
       "<style scoped>\n",
       "    .dataframe tbody tr th:only-of-type {\n",
       "        vertical-align: middle;\n",
       "    }\n",
       "\n",
       "    .dataframe tbody tr th {\n",
       "        vertical-align: top;\n",
       "    }\n",
       "\n",
       "    .dataframe thead th {\n",
       "        text-align: right;\n",
       "    }\n",
       "</style>\n",
       "<table border=\"1\" class=\"dataframe\">\n",
       "  <thead>\n",
       "    <tr style=\"text-align: right;\">\n",
       "      <th></th>\n",
       "      <th>num_units</th>\n",
       "      <th>injuries_total</th>\n",
       "      <th>injuries_fatal</th>\n",
       "      <th>injuries_incapacitating</th>\n",
       "      <th>injuries_non_incapacitating</th>\n",
       "      <th>injuries_reported_not_evident</th>\n",
       "      <th>injuries_no_indication</th>\n",
       "      <th>crash_hour</th>\n",
       "      <th>crash_day_of_week</th>\n",
       "      <th>crash_month</th>\n",
       "    </tr>\n",
       "  </thead>\n",
       "  <tbody>\n",
       "    <tr>\n",
       "      <th>count</th>\n",
       "      <td>209306.000000</td>\n",
       "      <td>209306.000000</td>\n",
       "      <td>209306.000000</td>\n",
       "      <td>209306.000000</td>\n",
       "      <td>209306.000000</td>\n",
       "      <td>209306.000000</td>\n",
       "      <td>209306.000000</td>\n",
       "      <td>209306.000000</td>\n",
       "      <td>209306.000000</td>\n",
       "      <td>209306.000000</td>\n",
       "    </tr>\n",
       "    <tr>\n",
       "      <th>mean</th>\n",
       "      <td>2.063300</td>\n",
       "      <td>0.382717</td>\n",
       "      <td>0.001859</td>\n",
       "      <td>0.038102</td>\n",
       "      <td>0.221241</td>\n",
       "      <td>0.121516</td>\n",
       "      <td>2.244002</td>\n",
       "      <td>13.373047</td>\n",
       "      <td>4.144024</td>\n",
       "      <td>6.771822</td>\n",
       "    </tr>\n",
       "    <tr>\n",
       "      <th>std</th>\n",
       "      <td>0.396012</td>\n",
       "      <td>0.799720</td>\n",
       "      <td>0.047502</td>\n",
       "      <td>0.233964</td>\n",
       "      <td>0.614960</td>\n",
       "      <td>0.450865</td>\n",
       "      <td>1.241175</td>\n",
       "      <td>5.603830</td>\n",
       "      <td>1.966864</td>\n",
       "      <td>3.427593</td>\n",
       "    </tr>\n",
       "    <tr>\n",
       "      <th>min</th>\n",
       "      <td>1.000000</td>\n",
       "      <td>0.000000</td>\n",
       "      <td>0.000000</td>\n",
       "      <td>0.000000</td>\n",
       "      <td>0.000000</td>\n",
       "      <td>0.000000</td>\n",
       "      <td>0.000000</td>\n",
       "      <td>0.000000</td>\n",
       "      <td>1.000000</td>\n",
       "      <td>1.000000</td>\n",
       "    </tr>\n",
       "    <tr>\n",
       "      <th>25%</th>\n",
       "      <td>2.000000</td>\n",
       "      <td>0.000000</td>\n",
       "      <td>0.000000</td>\n",
       "      <td>0.000000</td>\n",
       "      <td>0.000000</td>\n",
       "      <td>0.000000</td>\n",
       "      <td>2.000000</td>\n",
       "      <td>9.000000</td>\n",
       "      <td>2.000000</td>\n",
       "      <td>4.000000</td>\n",
       "    </tr>\n",
       "    <tr>\n",
       "      <th>50%</th>\n",
       "      <td>2.000000</td>\n",
       "      <td>0.000000</td>\n",
       "      <td>0.000000</td>\n",
       "      <td>0.000000</td>\n",
       "      <td>0.000000</td>\n",
       "      <td>0.000000</td>\n",
       "      <td>2.000000</td>\n",
       "      <td>14.000000</td>\n",
       "      <td>4.000000</td>\n",
       "      <td>7.000000</td>\n",
       "    </tr>\n",
       "    <tr>\n",
       "      <th>75%</th>\n",
       "      <td>2.000000</td>\n",
       "      <td>1.000000</td>\n",
       "      <td>0.000000</td>\n",
       "      <td>0.000000</td>\n",
       "      <td>0.000000</td>\n",
       "      <td>0.000000</td>\n",
       "      <td>3.000000</td>\n",
       "      <td>17.000000</td>\n",
       "      <td>6.000000</td>\n",
       "      <td>10.000000</td>\n",
       "    </tr>\n",
       "    <tr>\n",
       "      <th>max</th>\n",
       "      <td>11.000000</td>\n",
       "      <td>21.000000</td>\n",
       "      <td>3.000000</td>\n",
       "      <td>7.000000</td>\n",
       "      <td>21.000000</td>\n",
       "      <td>15.000000</td>\n",
       "      <td>49.000000</td>\n",
       "      <td>23.000000</td>\n",
       "      <td>7.000000</td>\n",
       "      <td>12.000000</td>\n",
       "    </tr>\n",
       "  </tbody>\n",
       "</table>\n",
       "</div>"
      ],
      "text/plain": [
       "           num_units  injuries_total  injuries_fatal  injuries_incapacitating  \\\n",
       "count  209306.000000   209306.000000   209306.000000            209306.000000   \n",
       "mean        2.063300        0.382717        0.001859                 0.038102   \n",
       "std         0.396012        0.799720        0.047502                 0.233964   \n",
       "min         1.000000        0.000000        0.000000                 0.000000   \n",
       "25%         2.000000        0.000000        0.000000                 0.000000   \n",
       "50%         2.000000        0.000000        0.000000                 0.000000   \n",
       "75%         2.000000        1.000000        0.000000                 0.000000   \n",
       "max        11.000000       21.000000        3.000000                 7.000000   \n",
       "\n",
       "       injuries_non_incapacitating  injuries_reported_not_evident  \\\n",
       "count                209306.000000                  209306.000000   \n",
       "mean                      0.221241                       0.121516   \n",
       "std                       0.614960                       0.450865   \n",
       "min                       0.000000                       0.000000   \n",
       "25%                       0.000000                       0.000000   \n",
       "50%                       0.000000                       0.000000   \n",
       "75%                       0.000000                       0.000000   \n",
       "max                      21.000000                      15.000000   \n",
       "\n",
       "       injuries_no_indication     crash_hour  crash_day_of_week    crash_month  \n",
       "count           209306.000000  209306.000000      209306.000000  209306.000000  \n",
       "mean                 2.244002      13.373047           4.144024       6.771822  \n",
       "std                  1.241175       5.603830           1.966864       3.427593  \n",
       "min                  0.000000       0.000000           1.000000       1.000000  \n",
       "25%                  2.000000       9.000000           2.000000       4.000000  \n",
       "50%                  2.000000      14.000000           4.000000       7.000000  \n",
       "75%                  3.000000      17.000000           6.000000      10.000000  \n",
       "max                 49.000000      23.000000           7.000000      12.000000  "
      ]
     },
     "execution_count": 7,
     "metadata": {},
     "output_type": "execute_result"
    }
   ],
   "source": [
    "df.describe()"
   ]
  },
  {
   "cell_type": "code",
   "execution_count": 8,
   "metadata": {},
   "outputs": [
    {
     "data": {
      "text/plain": [
       "0         07/29/2023 01:00:00 PM\n",
       "1         08/13/2023 12:11:00 AM\n",
       "2         12/09/2021 10:30:00 AM\n",
       "3         08/09/2023 07:55:00 PM\n",
       "4         08/19/2023 02:55:00 PM\n",
       "                   ...          \n",
       "209301    09/13/2023 01:08:00 PM\n",
       "209302    07/18/2023 02:10:00 PM\n",
       "209303    10/23/2019 01:32:00 PM\n",
       "209304    06/01/2020 03:23:00 PM\n",
       "209305    12/16/2022 12:10:00 PM\n",
       "Name: crash_date, Length: 209306, dtype: object"
      ]
     },
     "execution_count": 8,
     "metadata": {},
     "output_type": "execute_result"
    }
   ],
   "source": [
    "df[\"crash_date\"]"
   ]
  },
  {
   "cell_type": "code",
   "execution_count": 9,
   "metadata": {},
   "outputs": [
    {
     "data": {
      "text/plain": [
       "0        2023-07-29 13:00:00\n",
       "1        2023-08-13 00:11:00\n",
       "2        2021-12-09 10:30:00\n",
       "3        2023-08-09 19:55:00\n",
       "4        2023-08-19 14:55:00\n",
       "                 ...        \n",
       "209301   2023-09-13 13:08:00\n",
       "209302   2023-07-18 14:10:00\n",
       "209303   2019-10-23 13:32:00\n",
       "209304   2020-06-01 15:23:00\n",
       "209305   2022-12-16 12:10:00\n",
       "Name: crash_date, Length: 209306, dtype: datetime64[ns]"
      ]
     },
     "execution_count": 9,
     "metadata": {},
     "output_type": "execute_result"
    }
   ],
   "source": [
    "df[\"crash_date\"] = pd.to_datetime(df[\"crash_date\"])\n",
    "df[\"crash_date\"]"
   ]
  },
  {
   "cell_type": "code",
   "execution_count": 10,
   "metadata": {},
   "outputs": [
    {
     "data": {
      "text/plain": [
       "0          Saturday\n",
       "1            Sunday\n",
       "2          Thursday\n",
       "3         Wednesday\n",
       "4          Saturday\n",
       "            ...    \n",
       "209301    Wednesday\n",
       "209302      Tuesday\n",
       "209303    Wednesday\n",
       "209304       Monday\n",
       "209305       Friday\n",
       "Name: crash_day_of_week, Length: 209306, dtype: object"
      ]
     },
     "execution_count": 10,
     "metadata": {},
     "output_type": "execute_result"
    }
   ],
   "source": [
    "df[\"crash_day_of_week\"]=df[\"crash_date\"].dt.day_name()\n",
    "df[\"crash_day_of_week\"]"
   ]
  },
  {
   "cell_type": "code",
   "execution_count": 11,
   "metadata": {},
   "outputs": [
    {
     "data": {
      "text/plain": [
       "0              July\n",
       "1            August\n",
       "2          December\n",
       "3            August\n",
       "4            August\n",
       "            ...    \n",
       "209301    September\n",
       "209302         July\n",
       "209303      October\n",
       "209304         June\n",
       "209305     December\n",
       "Name: crash_month, Length: 209306, dtype: object"
      ]
     },
     "execution_count": 11,
     "metadata": {},
     "output_type": "execute_result"
    }
   ],
   "source": [
    "df[\"crash_month\"]=df[\"crash_date\"].dt.month_name()\n",
    "df[\"crash_month\"]"
   ]
  },
  {
   "cell_type": "code",
   "execution_count": 12,
   "metadata": {},
   "outputs": [],
   "source": [
    "df = df.drop(columns = ['crash_date'])"
   ]
  },
  {
   "cell_type": "code",
   "execution_count": 13,
   "metadata": {},
   "outputs": [
    {
     "name": "stdout",
     "output_type": "stream",
     "text": [
      "<class 'pandas.core.frame.DataFrame'>\n",
      "RangeIndex: 209306 entries, 0 to 209305\n",
      "Data columns (total 23 columns):\n",
      " #   Column                         Non-Null Count   Dtype  \n",
      "---  ------                         --------------   -----  \n",
      " 0   traffic_control_device         209306 non-null  object \n",
      " 1   weather_condition              209306 non-null  object \n",
      " 2   lighting_condition             209306 non-null  object \n",
      " 3   first_crash_type               209306 non-null  object \n",
      " 4   trafficway_type                209306 non-null  object \n",
      " 5   alignment                      209306 non-null  object \n",
      " 6   roadway_surface_cond           209306 non-null  object \n",
      " 7   road_defect                    209306 non-null  object \n",
      " 8   crash_type                     209306 non-null  object \n",
      " 9   intersection_related_i         209306 non-null  object \n",
      " 10  damage                         209306 non-null  object \n",
      " 11  prim_contributory_cause        209306 non-null  object \n",
      " 12  num_units                      209306 non-null  int64  \n",
      " 13  most_severe_injury             209306 non-null  object \n",
      " 14  injuries_total                 209306 non-null  float64\n",
      " 15  injuries_fatal                 209306 non-null  float64\n",
      " 16  injuries_incapacitating        209306 non-null  float64\n",
      " 17  injuries_non_incapacitating    209306 non-null  float64\n",
      " 18  injuries_reported_not_evident  209306 non-null  float64\n",
      " 19  injuries_no_indication         209306 non-null  float64\n",
      " 20  crash_hour                     209306 non-null  int64  \n",
      " 21  crash_day_of_week              209306 non-null  object \n",
      " 22  crash_month                    209306 non-null  object \n",
      "dtypes: float64(6), int64(2), object(15)\n",
      "memory usage: 36.7+ MB\n"
     ]
    }
   ],
   "source": [
    "df.info()"
   ]
  },
  {
   "cell_type": "code",
   "execution_count": 14,
   "metadata": {},
   "outputs": [
    {
     "data": {
      "text/html": [
       "<div>\n",
       "<style scoped>\n",
       "    .dataframe tbody tr th:only-of-type {\n",
       "        vertical-align: middle;\n",
       "    }\n",
       "\n",
       "    .dataframe tbody tr th {\n",
       "        vertical-align: top;\n",
       "    }\n",
       "\n",
       "    .dataframe thead th {\n",
       "        text-align: right;\n",
       "    }\n",
       "</style>\n",
       "<table border=\"1\" class=\"dataframe\">\n",
       "  <thead>\n",
       "    <tr style=\"text-align: right;\">\n",
       "      <th></th>\n",
       "      <th>traffic_control_device</th>\n",
       "      <th>weather_condition</th>\n",
       "      <th>lighting_condition</th>\n",
       "      <th>first_crash_type</th>\n",
       "      <th>trafficway_type</th>\n",
       "      <th>alignment</th>\n",
       "      <th>roadway_surface_cond</th>\n",
       "      <th>road_defect</th>\n",
       "      <th>crash_type</th>\n",
       "      <th>intersection_related_i</th>\n",
       "      <th>...</th>\n",
       "      <th>most_severe_injury</th>\n",
       "      <th>injuries_total</th>\n",
       "      <th>injuries_fatal</th>\n",
       "      <th>injuries_incapacitating</th>\n",
       "      <th>injuries_non_incapacitating</th>\n",
       "      <th>injuries_reported_not_evident</th>\n",
       "      <th>injuries_no_indication</th>\n",
       "      <th>crash_hour</th>\n",
       "      <th>crash_day_of_week</th>\n",
       "      <th>crash_month</th>\n",
       "    </tr>\n",
       "  </thead>\n",
       "  <tbody>\n",
       "    <tr>\n",
       "      <th>0</th>\n",
       "      <td>TRAFFIC SIGNAL</td>\n",
       "      <td>CLEAR</td>\n",
       "      <td>DAYLIGHT</td>\n",
       "      <td>TURNING</td>\n",
       "      <td>NOT DIVIDED</td>\n",
       "      <td>STRAIGHT AND LEVEL</td>\n",
       "      <td>UNKNOWN</td>\n",
       "      <td>UNKNOWN</td>\n",
       "      <td>NO INJURY / DRIVE AWAY</td>\n",
       "      <td>Y</td>\n",
       "      <td>...</td>\n",
       "      <td>NO INDICATION OF INJURY</td>\n",
       "      <td>0.0</td>\n",
       "      <td>0.0</td>\n",
       "      <td>0.0</td>\n",
       "      <td>0.0</td>\n",
       "      <td>0.0</td>\n",
       "      <td>3.0</td>\n",
       "      <td>13</td>\n",
       "      <td>Saturday</td>\n",
       "      <td>July</td>\n",
       "    </tr>\n",
       "    <tr>\n",
       "      <th>1</th>\n",
       "      <td>TRAFFIC SIGNAL</td>\n",
       "      <td>CLEAR</td>\n",
       "      <td>DARKNESS, LIGHTED ROAD</td>\n",
       "      <td>TURNING</td>\n",
       "      <td>FOUR WAY</td>\n",
       "      <td>STRAIGHT AND LEVEL</td>\n",
       "      <td>DRY</td>\n",
       "      <td>NO DEFECTS</td>\n",
       "      <td>NO INJURY / DRIVE AWAY</td>\n",
       "      <td>Y</td>\n",
       "      <td>...</td>\n",
       "      <td>NO INDICATION OF INJURY</td>\n",
       "      <td>0.0</td>\n",
       "      <td>0.0</td>\n",
       "      <td>0.0</td>\n",
       "      <td>0.0</td>\n",
       "      <td>0.0</td>\n",
       "      <td>2.0</td>\n",
       "      <td>0</td>\n",
       "      <td>Sunday</td>\n",
       "      <td>August</td>\n",
       "    </tr>\n",
       "    <tr>\n",
       "      <th>2</th>\n",
       "      <td>TRAFFIC SIGNAL</td>\n",
       "      <td>CLEAR</td>\n",
       "      <td>DAYLIGHT</td>\n",
       "      <td>REAR END</td>\n",
       "      <td>T-INTERSECTION</td>\n",
       "      <td>STRAIGHT AND LEVEL</td>\n",
       "      <td>DRY</td>\n",
       "      <td>NO DEFECTS</td>\n",
       "      <td>NO INJURY / DRIVE AWAY</td>\n",
       "      <td>Y</td>\n",
       "      <td>...</td>\n",
       "      <td>NO INDICATION OF INJURY</td>\n",
       "      <td>0.0</td>\n",
       "      <td>0.0</td>\n",
       "      <td>0.0</td>\n",
       "      <td>0.0</td>\n",
       "      <td>0.0</td>\n",
       "      <td>3.0</td>\n",
       "      <td>10</td>\n",
       "      <td>Thursday</td>\n",
       "      <td>December</td>\n",
       "    </tr>\n",
       "  </tbody>\n",
       "</table>\n",
       "<p>3 rows × 23 columns</p>\n",
       "</div>"
      ],
      "text/plain": [
       "  traffic_control_device weather_condition      lighting_condition  \\\n",
       "0         TRAFFIC SIGNAL             CLEAR                DAYLIGHT   \n",
       "1         TRAFFIC SIGNAL             CLEAR  DARKNESS, LIGHTED ROAD   \n",
       "2         TRAFFIC SIGNAL             CLEAR                DAYLIGHT   \n",
       "\n",
       "  first_crash_type trafficway_type           alignment roadway_surface_cond  \\\n",
       "0          TURNING     NOT DIVIDED  STRAIGHT AND LEVEL              UNKNOWN   \n",
       "1          TURNING        FOUR WAY  STRAIGHT AND LEVEL                  DRY   \n",
       "2         REAR END  T-INTERSECTION  STRAIGHT AND LEVEL                  DRY   \n",
       "\n",
       "  road_defect              crash_type intersection_related_i  ...  \\\n",
       "0     UNKNOWN  NO INJURY / DRIVE AWAY                      Y  ...   \n",
       "1  NO DEFECTS  NO INJURY / DRIVE AWAY                      Y  ...   \n",
       "2  NO DEFECTS  NO INJURY / DRIVE AWAY                      Y  ...   \n",
       "\n",
       "        most_severe_injury injuries_total  injuries_fatal  \\\n",
       "0  NO INDICATION OF INJURY            0.0             0.0   \n",
       "1  NO INDICATION OF INJURY            0.0             0.0   \n",
       "2  NO INDICATION OF INJURY            0.0             0.0   \n",
       "\n",
       "  injuries_incapacitating  injuries_non_incapacitating  \\\n",
       "0                     0.0                          0.0   \n",
       "1                     0.0                          0.0   \n",
       "2                     0.0                          0.0   \n",
       "\n",
       "   injuries_reported_not_evident  injuries_no_indication  crash_hour  \\\n",
       "0                            0.0                     3.0          13   \n",
       "1                            0.0                     2.0           0   \n",
       "2                            0.0                     3.0          10   \n",
       "\n",
       "   crash_day_of_week  crash_month  \n",
       "0           Saturday         July  \n",
       "1             Sunday       August  \n",
       "2           Thursday     December  \n",
       "\n",
       "[3 rows x 23 columns]"
      ]
     },
     "execution_count": 14,
     "metadata": {},
     "output_type": "execute_result"
    }
   ],
   "source": [
    "df.head(3)"
   ]
  },
  {
   "cell_type": "markdown",
   "metadata": {},
   "source": [
    "# Visualizing Data\n"
   ]
  },
  {
   "cell_type": "code",
   "execution_count": 15,
   "metadata": {},
   "outputs": [],
   "source": [
    "import matplotlib.pyplot as plt\n",
    "import seaborn as sns"
   ]
  },
  {
   "cell_type": "code",
   "execution_count": 16,
   "metadata": {},
   "outputs": [
    {
     "data": {
      "image/png": "[encoded data removed]",
      "text/plain": [
       "<Figure size 1440x864 with 3 Axes>"
      ]
     },
     "metadata": {
      "needs_background": "light"
     },
     "output_type": "display_data"
    }
   ],
   "source": [
    "date=[\"crash_day_of_week\",\"crash_month\",\"crash_hour\"]\n",
    "plt.figure(figsize=(20, 12))  \n",
    "for i,col in enumerate(date):\n",
    "    plt.subplot(2, 2, i + 1)  \n",
    "    sns.countplot(data=df, x=col, palette='plasma')\n",
    "    plt.title(f\"{col}\")\n",
    "    plt.xlabel(col)\n",
    "    plt.ylabel(\"Count\")\n",
    "plt.show()"
   ]
  },
  {
   "cell_type": "markdown",
   "metadata": {},
   "source": [
    "##### From the above bar chart we can see most of the accidents are taking place between 3.00 PM to 5.00 PM, which is the time of people returning home\n",
    "##### Also at Friday, the begining of the week, most accidents are occuring."
   ]
  },
  {
   "cell_type": "code",
   "execution_count": 17,
   "metadata": {},
   "outputs": [
    {
     "data": {
      "image/png": "[encoded data removed]",
      "text/plain": [
       "<Figure size 864x720 with 3 Axes>"
      ]
     },
     "metadata": {
      "needs_background": "light"
     },
     "output_type": "display_data"
    }
   ],
   "source": [
    "categoric = [\"lighting_condition\", \"traffic_control_device\", \"weather_condition\"]\n",
    "\n",
    "plt.figure(figsize=(12, 10))\n",
    "for i, col in enumerate(categoric):\n",
    "    plt.subplot(2, 2, i+1)  \n",
    "    sns.countplot(x=col, palette=\"magma\", data=df)\n",
    "    plt.xticks(rotation=90)\n",
    "    plt.xlabel(col)\n",
    "    plt.ylabel(\"Count\")\n",
    "\n",
    "plt.tight_layout() \n",
    "plt.show()"
   ]
  },
  {
   "cell_type": "markdown",
   "metadata": {},
   "source": [
    "##### As we can see from the above graph, most accidents are occuring in day light. Fewer accidents happen in darkness on lighted roads or at dusk.\n",
    "##### Surprisingly, The highest number of accidents happen where there are traffic signals.\n",
    "##### Lastly from the weather condition chart we can see, Accidents mostly occur in clear weather."
   ]
  },
  {
   "cell_type": "code",
   "execution_count": 19,
   "metadata": {},
   "outputs": [
    {
     "data": {
      "image/png": "[encoded data removed]",
      "text/plain": [
       "<Figure size 720x432 with 1 Axes>"
      ]
     },
     "metadata": {
      "needs_background": "light"
     },
     "output_type": "display_data"
    }
   ],
   "source": [
    "injuries = df.groupby('damage')['injuries_total'].sum().reset_index()\n",
    "\n",
    "plt.figure(figsize=(10, 6))\n",
    "sns.barplot(data=injuries, x='damage', y='injuries_total', palette='magma')\n",
    "plt.title('Total Injuries by Damage Cost')\n",
    "plt.xlabel('Damage Cost')\n",
    "plt.ylabel('Total Injuries')\n",
    "plt.tight_layout()\n",
    "plt.show()"
   ]
  },
  {
   "cell_type": "markdown",
   "metadata": {},
   "source": [
    "##### There is a clear correlation between higher damage costs and a greater number of injuries. This indicates that more severe accidents tend to result in both higher financial damage and more injuries."
   ]
  },
  {
   "cell_type": "code",
   "execution_count": null,
   "metadata": {},
   "outputs": [],
   "source": []
  },
  {
   "cell_type": "code",
   "execution_count": null,
   "metadata": {},
   "outputs": [],
   "source": []
  },
  {
   "cell_type": "code",
   "execution_count": null,
   "metadata": {},
   "outputs": [],
   "source": []
  },
  {
   "cell_type": "code",
   "execution_count": null,
   "metadata": {},
   "outputs": [],
   "source": []
  }
 ],
 "metadata": {
  "kernelspec": {
   "display_name": "Python 3 (ipykernel)",
   "language": "python",
   "name": "python3"
  },
  "language_info": {
   "codemirror_mode": {
    "name": "ipython",
    "version": 3
   },
   "file_extension": ".py",
   "mimetype": "text/x-python",
   "name": "python",
   "nbconvert_exporter": "python",
   "pygments_lexer": "ipython3",
   "version": "3.9.7"
  }
 },
 "nbformat": 4,
 "nbformat_minor": 2
}
